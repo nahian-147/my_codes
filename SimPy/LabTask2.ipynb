{
 "cells": [
  {
   "cell_type": "code",
   "execution_count": 1,
   "id": "62b8bc13-1196-4926-9839-ced6c7414b56",
   "metadata": {},
   "outputs": [],
   "source": [
    "from math import log, sqrt\n",
    "from datetime import datetime"
   ]
  },
  {
   "cell_type": "markdown",
   "id": "371c4c8c-47a0-4b66-9b6b-6384a6bb0e42",
   "metadata": {},
   "source": [
    "## Task 1"
   ]
  },
  {
   "cell_type": "code",
   "execution_count": 2,
   "id": "6defd2e4-8393-48d4-a1d4-ae354f429b5d",
   "metadata": {},
   "outputs": [],
   "source": [
    "class Accident:\n",
    "    date = datetime.now().date().year\n",
    "    time = str(datetime.now().time())\n",
    "    location = ''\n",
    "    no_of_dead = 0\n",
    "    no_of_injured = 1\n",
    "    financial_loss = 0\n",
    "    intensity_level = log(no_of_injured) + sqrt(no_of_dead) + 1.12**(financial_loss/100)\n",
    "    list_of_dead = []\n",
    "    list_of_injured = []"
   ]
  },
  {
   "cell_type": "markdown",
   "id": "685ed823-f9ff-4ef8-9d9e-8faab16e8cad",
   "metadata": {},
   "source": [
    "## Task 2"
   ]
  },
  {
   "cell_type": "code",
   "execution_count": 3,
   "id": "fc3046fb-8b0b-408f-8900-52eb266fcfe7",
   "metadata": {},
   "outputs": [
    {
     "data": {
      "text/plain": [
       "2021"
      ]
     },
     "execution_count": 3,
     "metadata": {},
     "output_type": "execute_result"
    }
   ],
   "source": [
    "datetime.now().date().year"
   ]
  },
  {
   "cell_type": "code",
   "execution_count": 4,
   "id": "067b03a5-5882-4fd5-b215-985f2f160728",
   "metadata": {},
   "outputs": [],
   "source": [
    "a1 = Accident()"
   ]
  },
  {
   "cell_type": "code",
   "execution_count": 5,
   "id": "c244c1c7-a143-4b6e-baca-d4a03fd6a8d6",
   "metadata": {},
   "outputs": [
    {
     "data": {
      "text/plain": [
       "2021"
      ]
     },
     "execution_count": 5,
     "metadata": {},
     "output_type": "execute_result"
    }
   ],
   "source": [
    "a1.date"
   ]
  },
  {
   "cell_type": "code",
   "execution_count": 6,
   "id": "f50346a5-5d1d-48bc-be35-4d0a6940e7f2",
   "metadata": {},
   "outputs": [],
   "source": [
    "class Road_Accident(Accident):\n",
    "    list_of_cars = []\n",
    "    \n",
    "class Plane_Crash(Accident):\n",
    "    list_of_planes = []\n",
    "    \n",
    "class Fire(Accident):\n",
    "    source_of_fire = ''\n",
    "    \n",
    "class Earthquake(Accident):\n",
    "    seismic_level = 0.0"
   ]
  },
  {
   "cell_type": "markdown",
   "id": "2dc7ac13-f66a-4c57-a70a-2be7f4c5457b",
   "metadata": {},
   "source": [
    "## Task 3"
   ]
  },
  {
   "cell_type": "code",
   "execution_count": 7,
   "id": "e91c8320-ff4d-4aee-b16d-a9f63544935f",
   "metadata": {},
   "outputs": [],
   "source": [
    "class Accident:\n",
    "    date = datetime.now().date().year\n",
    "    time = str(datetime.now().time())\n",
    "    location = ''\n",
    "    no_of_dead = 0\n",
    "    no_of_injured = 1\n",
    "    financial_loss = 0\n",
    "    intensity_level = log(no_of_injured) + sqrt(no_of_dead) + 1.12**(financial_loss/100)\n",
    "    list_of_dead = []\n",
    "    list_of_injured = []\n",
    "    \n",
    "    def __init__(self,time = datetime.now().time(),date = datetime.now().date().year,location = 'Dhaka'):\n",
    "        self.date = date\n",
    "        self.time = time\n",
    "        self.location = location\n",
    "        \n",
    "    def __str__(self):\n",
    "        return str({'Date':self.date,\n",
    "                   'Time':self.time,\n",
    "                   'Location':self.location,\n",
    "                   'No of Dead':self.no_of_dead,\n",
    "                   'No of Injured':self.financial_loss,\n",
    "                   'Financial Loss':self.financial_loss,\n",
    "                   'Intensity Level':self.intensity_level,\n",
    "                   'List of Dead':self.list_of_dead,\n",
    "                   'List of Injured':self.list_of_injured})\n",
    "    "
   ]
  },
  {
   "cell_type": "code",
   "execution_count": 8,
   "id": "7ec6dcbe-3ef8-4372-943a-500aa57e0d64",
   "metadata": {},
   "outputs": [],
   "source": [
    "class Road_Accident(Accident):\n",
    "    list_of_cars = []\n",
    "    \n",
    "    def __str__(self):\n",
    "        return str({'Date':self.date,\n",
    "                   'Time':self.time,\n",
    "                   'Location':self.location,\n",
    "                   'No of Dead':self.no_of_dead,\n",
    "                   'No of Injured':self.financial_loss,\n",
    "                   'Financial Loss':self.financial_loss,\n",
    "                   'Intensity Level':self.intensity_level,\n",
    "                   'List of Dead':self.list_of_dead,\n",
    "                   'List of Injured':self.list_of_injured,\n",
    "                   'List of Cars':self.list_of_cars})\n",
    "    \n",
    "class Plane_Crash(Accident):\n",
    "    list_of_planes = []\n",
    "    \n",
    "    def __str__(self):\n",
    "        return str({'Date':self.date,\n",
    "                   'Time':self.time,\n",
    "                   'Location':self.location,\n",
    "                   'No of Dead':self.no_of_dead,\n",
    "                   'No of Injured':self.financial_loss,\n",
    "                   'Financial Loss':self.financial_loss,\n",
    "                   'Intensity Level':self.intensity_level,\n",
    "                   'List of Dead':self.list_of_dead,\n",
    "                   'List of Injured':self.list_of_injured,\n",
    "                   'List of Cars':self.list_of_cars,\n",
    "                   'List of Planes':self.list_of_planes})\n",
    "    \n",
    "class Fire(Accident):\n",
    "    source_of_fire = ''\n",
    "    \n",
    "    def __str__(self):\n",
    "        return str({'Date':self.date,\n",
    "                   'Time':self.time,\n",
    "                   'Location':self.location,\n",
    "                   'No of Dead':self.no_of_dead,\n",
    "                   'No of Injured':self.financial_loss,\n",
    "                   'Financial Loss':self.financial_loss,\n",
    "                   'Intensity Level':self.intensity_level,\n",
    "                   'List of Dead':self.list_of_dead,\n",
    "                   'List of Injured':self.list_of_injured,\n",
    "                   'List of Cars':self.list_of_cars,\n",
    "                   'List of Planes':self.list_of_planes,\n",
    "                   'Source':self.source_of_fire})\n",
    "    \n",
    "class Earthquake(Accident):\n",
    "    seismic_level = 0.0\n",
    "    def __str__(self):\n",
    "        return str({'Date':self.date,\n",
    "                   'Time':self.time,\n",
    "                   'Location':self.location,\n",
    "                   'No of Dead':self.no_of_dead,\n",
    "                   'No of Injured':self.financial_loss,\n",
    "                   'Financial Loss':self.financial_loss,\n",
    "                   'Intensity Level':self.intensity_level,\n",
    "                   'List of Dead':self.list_of_dead,\n",
    "                   'List of Injured':self.list_of_injured,\n",
    "                   'List of Cars':self.list_of_cars,\n",
    "                   'List of Planes':self.list_of_planes,\n",
    "                   'Source':self.source_of_fire,\n",
    "                   'Seismic Level':self.seismic_level})"
   ]
  },
  {
   "cell_type": "markdown",
   "id": "23f1064e-4a99-4c0c-a6ea-c38af89932ee",
   "metadata": {},
   "source": [
    "## Task 4"
   ]
  },
  {
   "cell_type": "code",
   "execution_count": 9,
   "id": "f9ca50ce-d4cc-4a24-8e0d-8b6e12506e83",
   "metadata": {},
   "outputs": [],
   "source": [
    "class Accident:\n",
    "    date = datetime.now().date().year\n",
    "    time = str(datetime.now().time())\n",
    "    location = ''\n",
    "    no_of_dead = 0\n",
    "    no_of_injured = .00000000000000000001\n",
    "    financial_loss = 0\n",
    "    intensity_level = log(no_of_injured) + sqrt(no_of_dead) + 1.12**(financial_loss/100) \n",
    "    \n",
    "    def __init__(self,time = datetime.now().time(),date = datetime.now().date().year,location = 'Dhaka'):\n",
    "        self.date = date\n",
    "        self.time = time\n",
    "        self.location = location\n",
    "        self.list_of_dead = []\n",
    "        self.list_of_injured = []\n",
    "        \n",
    "    def __str__(self):\n",
    "        return str({'Date':self.date,\n",
    "                   'Time':self.time,\n",
    "                   'Location':self.location,\n",
    "                   'No of Dead':self.no_of_dead,\n",
    "                   'No of Injured':int(self.no_of_injured),\n",
    "                   'Financial Loss':self.financial_loss,\n",
    "                   'Intensity Level':self.intensity_level,\n",
    "                   'List of Dead':self.list_of_dead,\n",
    "                   'List of Injured':self.list_of_injured})\n",
    "    \n",
    "    def update_injured(self,n=None,inj_list=None):\n",
    "        if n is not None and inj_list is None:\n",
    "            self.no_of_injured += n\n",
    "            for _ in range(n):\n",
    "                self.list_of_injured.append({'name':'Unknown','age':'unknown','NID':'Unknown'})\n",
    "        elif inj_list is not None and n is None:\n",
    "            self.no_of_injured += len(inj_list)\n",
    "            for inj in inj_list:\n",
    "                self.list_of_injured.append(inj)\n",
    "        else:\n",
    "            print('Error !')\n",
    "    def update_dead(self,n=None,dead_list=None):\n",
    "        if n is not None and dead_list is None:\n",
    "            self.no_of_dead += n\n",
    "            for _ in range(n):\n",
    "                self.list_of_dead.append({'name':'Unknown','age':'unknown','NID':'Unknown'})\n",
    "        elif dead_list is not None and n is None:\n",
    "            self.no_of_dead += len(inj_list)\n",
    "            for inj in dead_list:\n",
    "                self.list_of_dead.append(inj)\n",
    "        else:\n",
    "            print('Error !')"
   ]
  },
  {
   "cell_type": "code",
   "execution_count": 10,
   "id": "3cbe56b1-2666-47a5-8b91-41c7b677e887",
   "metadata": {},
   "outputs": [],
   "source": [
    "date_time_obj = datetime.strptime('10/12/2021 20:45:10', '%d/%m/%Y %H:%M:%S')"
   ]
  },
  {
   "cell_type": "code",
   "execution_count": 11,
   "id": "5184969b-da63-4184-86a2-37d9534a5e0b",
   "metadata": {},
   "outputs": [
    {
     "data": {
      "text/plain": [
       "datetime.datetime(2021, 12, 10, 20, 45, 10)"
      ]
     },
     "execution_count": 11,
     "metadata": {},
     "output_type": "execute_result"
    }
   ],
   "source": [
    "date_time_obj"
   ]
  },
  {
   "cell_type": "code",
   "execution_count": 12,
   "id": "8bd7ab82-2f4b-4063-9ecc-4840d5bee907",
   "metadata": {},
   "outputs": [
    {
     "name": "stdout",
     "output_type": "stream",
     "text": [
      "{'Date': datetime.date(2021, 7, 16), 'Time': datetime.time(1, 14, 17, 935726), 'Location': 'Hoga', 'No of Dead': 1, 'No of Injured': 5, 'Financial Loss': 0, 'Intensity Level': -45.051701859880914, 'List of Dead': [{'name': 'Unknown', 'age': 'unknown', 'NID': 'Unknown'}], 'List of Injured': [{'name': 'Unknown', 'age': 'unknown', 'NID': 'Unknown'}, {'name': 'Unknown', 'age': 'unknown', 'NID': 'Unknown'}, {'name': 'Unknown', 'age': 'unknown', 'NID': 'Unknown'}, {'name': 'Unknown', 'age': 'unknown', 'NID': 'Unknown'}, {'name': 'Unknown', 'age': 'unknown', 'NID': 'Unknown'}]}\n"
     ]
    }
   ],
   "source": [
    "hogamaraShara = Accident(datetime.now().time(),datetime.now().date(),\"Hoga\") \n",
    "hogamaraShara.update_injured(n=5)\n",
    "hogamaraShara.update_dead(n=1)\n",
    "print(hogamaraShara)"
   ]
  },
  {
   "cell_type": "markdown",
   "id": "bc3ccffb-2698-45e6-99c0-621841f68d06",
   "metadata": {},
   "source": [
    "## Task 5"
   ]
  },
  {
   "cell_type": "code",
   "execution_count": 15,
   "id": "07f9793c-5c79-4498-b92e-c21ee4413aab",
   "metadata": {},
   "outputs": [],
   "source": [
    "class Accident:\n",
    "    date = datetime.now().date().year\n",
    "    time = str(datetime.now().time())\n",
    "    location = ''\n",
    "    no_of_dead = 0\n",
    "    no_of_injured = .00000000000000000001\n",
    "    financial_loss = 0\n",
    "    intensity_level = log(no_of_injured) + sqrt(no_of_dead) + 1.12**(financial_loss/100) \n",
    "    \n",
    "    type = 'Accident'\n",
    "    \n",
    "    def __init__(self,time = datetime.now().time(),date = datetime.now().date().year,location = 'Dhaka'):\n",
    "        self.date = date\n",
    "        self.time = time\n",
    "        self.location = location\n",
    "        self.list_of_dead = []\n",
    "        self.list_of_injured = []\n",
    "        \n",
    "    def __str__(self):\n",
    "        return str({'Date':self.date,\n",
    "                   'Time':self.time,\n",
    "                   'Location':self.location,\n",
    "                   'No of Dead':self.no_of_dead,\n",
    "                   'No of Injured':int(self.no_of_injured),\n",
    "                   'Financial Loss':self.financial_loss,\n",
    "                   'Intensity Level':self.intensity_level,\n",
    "                   'List of Dead':self.list_of_dead,\n",
    "                   'List of Injured':self.list_of_injured})\n",
    "    \n",
    "    def update_injured(self,n=None,inj_list=None):\n",
    "        if n is not None and inj_list is None:\n",
    "            self.no_of_injured += n\n",
    "            for _ in range(n):\n",
    "                self.list_of_injured.append({'name':'Unknown','age':'unknown','NID':'Unknown'})\n",
    "        elif inj_list is not None and n is None:\n",
    "            self.no_of_injured += len(inj_list)\n",
    "            for inj in inj_list:\n",
    "                self.list_of_injured.append(inj)\n",
    "        else:\n",
    "            print('Error !')\n",
    "    def update_dead(self,n=None,dead_list=None):\n",
    "        if n is not None and dead_list is None:\n",
    "            self.no_of_dead += n\n",
    "            for _ in range(n):\n",
    "                self.list_of_dead.append({'name':'Unknown','age':'unknown','NID':'Unknown'})\n",
    "        elif dead_list is not None and n is None:\n",
    "            self.no_of_dead += len(inj_list)\n",
    "            for inj in dead_list:\n",
    "                self.list_of_dead.append(inj)\n",
    "        else:\n",
    "            print('Error !')\n",
    "            \n",
    "    def merge(self,accident):\n",
    "        if not (self.type,self.date,self.time,self.location) == (accident.type,accident.date,accident.time,accident.location):\n",
    "            print(\"They are different\")"
   ]
  },
  {
   "cell_type": "code",
   "execution_count": null,
   "id": "f3f0dc86-c295-4f67-a83a-6d59968f11a5",
   "metadata": {},
   "outputs": [],
   "source": []
  },
  {
   "cell_type": "code",
   "execution_count": null,
   "id": "38678c8e-6a64-4bf3-b431-177fdb06c4d1",
   "metadata": {},
   "outputs": [],
   "source": []
  },
  {
   "cell_type": "code",
   "execution_count": null,
   "id": "fc922290-0f3a-479d-ba10-eec4323dd236",
   "metadata": {},
   "outputs": [],
   "source": []
  }
 ],
 "metadata": {
  "kernelspec": {
   "display_name": "Python 3",
   "language": "python",
   "name": "python3"
  },
  "language_info": {
   "codemirror_mode": {
    "name": "ipython",
    "version": 3
   },
   "file_extension": ".py",
   "mimetype": "text/x-python",
   "name": "python",
   "nbconvert_exporter": "python",
   "pygments_lexer": "ipython3",
   "version": "3.8.10"
  }
 },
 "nbformat": 4,
 "nbformat_minor": 5
}
