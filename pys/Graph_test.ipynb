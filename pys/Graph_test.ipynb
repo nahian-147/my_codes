{
 "cells": [
  {
   "cell_type": "code",
   "execution_count": 1,
   "id": "2a7a1c6a-97c0-4ec7-a32b-b360aad509cc",
   "metadata": {},
   "outputs": [
    {
     "name": "stdout",
     "output_type": "stream",
     "text": [
      "(True, {'c', 'a', 'e'}, {'b', 'f', 'd'})\n"
     ]
    }
   ],
   "source": [
    "import graph2 as gr"
   ]
  },
  {
   "cell_type": "code",
   "execution_count": 3,
   "id": "47fcb017-2348-4f35-8bae-739790cbc53c",
   "metadata": {},
   "outputs": [
    {
     "name": "stdout",
     "output_type": "stream",
     "text": [
      "(True, {'c', 'a', 'e'}, {'d', 'f', 'b'})\n"
     ]
    }
   ],
   "source": [
    "nodes = ['a','b','c','d','e','f']\n",
    "edges = [('a','d',1),('a','b',1),('a','f',1),('b','c',1),('b','e',1),('c','f',1),('c','d',1),('d','e',1),('e','f',1)]\n",
    "\n",
    "g = gr.Graph(nodes,edges)\n",
    "\n",
    "\n",
    "print(g.isBipartite())"
   ]
  },
  {
   "cell_type": "code",
   "execution_count": null,
   "id": "0bfa5f94-2242-410e-b693-c6d54a60208a",
   "metadata": {},
   "outputs": [],
   "source": []
  }
 ],
 "metadata": {
  "kernelspec": {
   "display_name": "Python 3",
   "language": "python",
   "name": "python3"
  },
  "language_info": {
   "codemirror_mode": {
    "name": "ipython",
    "version": 3
   },
   "file_extension": ".py",
   "mimetype": "text/x-python",
   "name": "python",
   "nbconvert_exporter": "python",
   "pygments_lexer": "ipython3",
   "version": "3.8.10"
  }
 },
 "nbformat": 4,
 "nbformat_minor": 5
}
