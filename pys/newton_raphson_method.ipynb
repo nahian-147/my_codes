{
 "cells": [
  {
   "cell_type": "markdown",
   "id": "49e52fa6-0355-4ebf-91ba-7641ce50c1c8",
   "metadata": {},
   "source": [
    "# Root Finding In Newton Raphson Method"
   ]
  },
  {
   "cell_type": "code",
   "execution_count": 1,
   "id": "a3839767-b477-4ae6-ae3a-c42ef8037dba",
   "metadata": {},
   "outputs": [],
   "source": [
    "import numpy as np\n",
    "import matplotlib.pyplot as plt"
   ]
  },
  {
   "cell_type": "markdown",
   "id": "079290ed-b606-47eb-81ef-a5a48721fe7a",
   "metadata": {},
   "source": [
    "## Defining our d/dx of f(x) :"
   ]
  },
  {
   "cell_type": "code",
   "execution_count": 2,
   "id": "9a77e392-08ee-4dbe-9bd4-33e7489dc074",
   "metadata": {},
   "outputs": [],
   "source": [
    "def d1f(f,x):\n",
    "    dx = .00000000001\n",
    "    return (f(x+dx)-f(x-dx))/(2*dx)"
   ]
  },
  {
   "cell_type": "markdown",
   "id": "505cab1d-1426-4062-9b49-26b94f85d499",
   "metadata": {},
   "source": [
    "### The Newton Raphson Method root finder running 'n' iterations :"
   ]
  },
  {
   "cell_type": "code",
   "execution_count": 3,
   "id": "c750dbd5-5fc0-41c2-a47e-d9dff949e4dd",
   "metadata": {},
   "outputs": [],
   "source": [
    "def newton_raphson_root_finder(f,x0,n):\n",
    "    iteration = 0\n",
    "    xn = x0\n",
    "    for iteration in range(n+1):\n",
    "        xn -= f(xn)/d1f(f,xn)\n",
    "    return xn"
   ]
  },
  {
   "cell_type": "markdown",
   "id": "760f5c27-b5cf-4ef5-97d5-34d0bcd7ae76",
   "metadata": {},
   "source": [
    "A toy Function :"
   ]
  },
  {
   "cell_type": "code",
   "execution_count": 4,
   "id": "dd58abac-ac83-4f91-a652-21af5360dbf9",
   "metadata": {},
   "outputs": [],
   "source": [
    "def f(x):\n",
    "    return 4*np.power(x,2)-1"
   ]
  },
  {
   "cell_type": "markdown",
   "id": "9afbbaf6-4213-4535-92c4-39a655b2f45c",
   "metadata": {},
   "source": [
    "Testing the d/dx"
   ]
  },
  {
   "cell_type": "code",
   "execution_count": 5,
   "id": "0c4adf19-1fe3-4556-811c-5b7c5f47c51a",
   "metadata": {},
   "outputs": [
    {
     "data": {
      "text/plain": [
       "0.7999989559692722"
      ]
     },
     "execution_count": 5,
     "metadata": {},
     "output_type": "execute_result"
    }
   ],
   "source": [
    "d1f(f,0.1)"
   ]
  },
  {
   "cell_type": "code",
   "execution_count": 6,
   "id": "d3c8cd38-a8f3-4eaf-b49e-f7f978018edc",
   "metadata": {},
   "outputs": [
    {
     "data": {
      "text/plain": [
       "0.5060055067208726"
      ]
     },
     "execution_count": 6,
     "metadata": {},
     "output_type": "execute_result"
    }
   ],
   "source": [
    "newton_raphson_root_finder(f,0.01,6)"
   ]
  },
  {
   "cell_type": "markdown",
   "id": "4fc2b61e-d989-41fd-b321-5c7c337c7fa2",
   "metadata": {},
   "source": [
    "as expected !!!!!!!"
   ]
  },
  {
   "cell_type": "markdown",
   "id": "326cdde6-6ea1-4921-87f9-48d6a786e6e6",
   "metadata": {},
   "source": [
    "### The Newton Raphson Method root finder that STOPS when solution CONVERGES :"
   ]
  },
  {
   "cell_type": "code",
   "execution_count": 7,
   "id": "da3501a7-db9f-47a5-8a06-b3ddd92358d8",
   "metadata": {},
   "outputs": [],
   "source": [
    "def newton_raphson_root_finder_converging(f,x0,tolerance):\n",
    "    iteration = 0\n",
    "    xn = x0\n",
    "    while True:\n",
    "        x_n_minus_one = xn\n",
    "        xn -= f(xn)/d1f(f,xn)\n",
    "        iteration += 1\n",
    "        if np.abs(x_n_minus_one - xn) < tolerance :\n",
    "            return xn,iteration\n",
    "        elif np.abs(x_n_minus_one - xn) > 10000 :\n",
    "            return \"Couldn't find a solution\""
   ]
  },
  {
   "cell_type": "code",
   "execution_count": 8,
   "id": "74faff0c-d1ca-4081-9106-83ef43cf8b6b",
   "metadata": {},
   "outputs": [
    {
     "data": {
      "text/plain": [
       "(0.5000000762494031, 12)"
      ]
     },
     "execution_count": 8,
     "metadata": {},
     "output_type": "execute_result"
    }
   ],
   "source": [
    "newton_raphson_root_finder_converging(f,0.001,0.01)"
   ]
  },
  {
   "cell_type": "markdown",
   "id": "0a0ab0d6-f59e-4f6c-bd90-9a138960e626",
   "metadata": {},
   "source": [
    "Again what we expected but STOPPED in 12 iterations."
   ]
  },
  {
   "cell_type": "markdown",
   "id": "69a015db-30ff-4662-8b49-cd490ed237f2",
   "metadata": {},
   "source": [
    "------------------------------------------------------------------------------------------- yourLOVER"
   ]
  }
 ],
 "metadata": {
  "kernelspec": {
   "display_name": "Python 3 (ipykernel)",
   "language": "python",
   "name": "python3"
  },
  "language_info": {
   "codemirror_mode": {
    "name": "ipython",
    "version": 3
   },
   "file_extension": ".py",
   "mimetype": "text/x-python",
   "name": "python",
   "nbconvert_exporter": "python",
   "pygments_lexer": "ipython3",
   "version": "3.10.4"
  }
 },
 "nbformat": 4,
 "nbformat_minor": 5
}
