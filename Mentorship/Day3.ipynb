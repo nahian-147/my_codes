{
 "cells": [
  {
   "cell_type": "code",
   "execution_count": 2,
   "id": "0be0736e-517d-4108-b750-7d826495f078",
   "metadata": {},
   "outputs": [
    {
     "data": {
      "text/plain": [
       "['apple', 'orange', 'grapes', 'strawberry', 'pie']"
      ]
     },
     "execution_count": 2,
     "metadata": {},
     "output_type": "execute_result"
    }
   ],
   "source": [
    "l1 = ['apple','orange','grapes']\n",
    "l2 = ['strawberry','pie']\n",
    "\n",
    "l = l1 + l2\n",
    "l"
   ]
  },
  {
   "cell_type": "code",
   "execution_count": 7,
   "id": "05bdeb43-d0db-47b4-adea-4ad9b59681df",
   "metadata": {},
   "outputs": [],
   "source": [
    "s = 'my name is mahi'\n",
    "a = 'and i am learning python'"
   ]
  },
  {
   "cell_type": "code",
   "execution_count": 9,
   "id": "f15b981e-1a89-46a3-98a6-7a82bc6d5995",
   "metadata": {},
   "outputs": [
    {
     "data": {
      "text/plain": [
       "'my name is mahi and i am learning python'"
      ]
     },
     "execution_count": 9,
     "metadata": {},
     "output_type": "execute_result"
    }
   ],
   "source": [
    "s + ' ' + a "
   ]
  },
  {
   "cell_type": "code",
   "execution_count": 12,
   "id": "92532440-f053-4f60-88ba-e0e9120aa895",
   "metadata": {},
   "outputs": [
    {
     "data": {
      "text/plain": [
       "'my name is mahi and i am learning python. my name is mahi and i am learning python. my name is mahi and i am learning python. my name is mahi and i am learning python. my name is mahi and i am learning python. my name is mahi and i am learning python. my name is mahi and i am learning python. my name is mahi and i am learning python. my name is mahi and i am learning python. my name is mahi and i am learning python. '"
      ]
     },
     "execution_count": 12,
     "metadata": {},
     "output_type": "execute_result"
    }
   ],
   "source": [
    "10 * (s + ' ' + a + '. ')"
   ]
  },
  {
   "cell_type": "code",
   "execution_count": 16,
   "id": "352a8485-ed44-4b7f-ba5e-874f84ccb011",
   "metadata": {},
   "outputs": [],
   "source": [
    "(x,y,z) = (2,6,7)"
   ]
  },
  {
   "cell_type": "code",
   "execution_count": 18,
   "id": "191404c8-c548-4c2b-983f-c31c42714ec6",
   "metadata": {},
   "outputs": [
    {
     "data": {
      "text/plain": [
       "7"
      ]
     },
     "execution_count": 18,
     "metadata": {},
     "output_type": "execute_result"
    }
   ],
   "source": [
    "z"
   ]
  },
  {
   "cell_type": "code",
   "execution_count": 21,
   "id": "2b481c86-0a99-44d9-85dd-5a6cbc843feb",
   "metadata": {},
   "outputs": [
    {
     "data": {
      "text/plain": [
       "True"
      ]
     },
     "execution_count": 21,
     "metadata": {},
     "output_type": "execute_result"
    }
   ],
   "source": [
    "{2,4,5} == {4,2,5} # set"
   ]
  },
  {
   "cell_type": "code",
   "execution_count": 22,
   "id": "691b8937-d901-41fd-abba-987aef16a485",
   "metadata": {},
   "outputs": [
    {
     "data": {
      "text/plain": [
       "False"
      ]
     },
     "execution_count": 22,
     "metadata": {},
     "output_type": "execute_result"
    }
   ],
   "source": [
    "(2,4,5) == (4,2,5) # tuple"
   ]
  },
  {
   "cell_type": "code",
   "execution_count": 44,
   "id": "286acf8d-da74-4c1b-ba88-81c536b34c2a",
   "metadata": {},
   "outputs": [
    {
     "name": "stdout",
     "output_type": "stream",
     "text": [
      "[2, 4, 5]\n"
     ]
    }
   ],
   "source": [
    "p = [2,4,5]\n",
    "print(p)\n",
    "p.append(7)"
   ]
  },
  {
   "cell_type": "code",
   "execution_count": 45,
   "id": "194f2c2e-abd8-4551-a159-6b61b7786d3f",
   "metadata": {},
   "outputs": [
    {
     "name": "stdout",
     "output_type": "stream",
     "text": [
      "[2, 4, 5, 7]\n"
     ]
    }
   ],
   "source": [
    "print(p)"
   ]
  },
  {
   "cell_type": "code",
   "execution_count": 46,
   "id": "6c86cf3a-0239-477d-87fa-5fffe5221639",
   "metadata": {},
   "outputs": [
    {
     "name": "stdout",
     "output_type": "stream",
     "text": [
      "[2, 4, 5, 7, 4]\n"
     ]
    }
   ],
   "source": [
    "p.append(4)\n",
    "print(p)"
   ]
  },
  {
   "cell_type": "code",
   "execution_count": 67,
   "id": "3240fbed-04f2-4348-9f2d-3d932e9fab5e",
   "metadata": {},
   "outputs": [],
   "source": [
    "m ={'name':'mahi',\n",
    "    'age':19,\n",
    "    'occupation':'student',\n",
    "    'fruits':l1,\n",
    "    'dictionary':{'fvrtplace':['sylhet','jaflong'],\n",
    "                  'game':['farCry','COD']}}"
   ]
  },
  {
   "cell_type": "code",
   "execution_count": 68,
   "id": "4211d6b2-80c2-457c-887c-c904914cf193",
   "metadata": {},
   "outputs": [
    {
     "data": {
      "text/plain": [
       "'student'"
      ]
     },
     "execution_count": 68,
     "metadata": {},
     "output_type": "execute_result"
    }
   ],
   "source": [
    "m['occupation']"
   ]
  },
  {
   "cell_type": "code",
   "execution_count": 69,
   "id": "4c10c63f-48da-405b-ab51-95eee8feef92",
   "metadata": {},
   "outputs": [
    {
     "name": "stdout",
     "output_type": "stream",
     "text": [
      "{'name': 'mahi', 'age': 19, 'occupation': 'student', 'fruits': ['apple', 'orange', 'grapes'], 'dictionary': {'fvrtplace': ['sylhet', 'jaflong'], 'game': ['farCry', 'COD']}}\n"
     ]
    }
   ],
   "source": [
    "print(m)"
   ]
  },
  {
   "cell_type": "code",
   "execution_count": 61,
   "id": "ebad8000-bd87-4c5d-81ea-05ccb2358e56",
   "metadata": {},
   "outputs": [
    {
     "data": {
      "text/plain": [
       "[['apple', 'orange', 'grapes'],\n",
       " 23,\n",
       " 'sksjd',\n",
       " {'name': 'mahi', 'age': 19, 'occupation': 'student'}]"
      ]
     },
     "execution_count": 61,
     "metadata": {},
     "output_type": "execute_result"
    }
   ],
   "source": [
    "superlist = [l1,23,'sksjd',m]\n",
    "superlist"
   ]
  },
  {
   "cell_type": "code",
   "execution_count": 71,
   "id": "c3b688ba-5df5-4233-9235-d95ade21326f",
   "metadata": {},
   "outputs": [],
   "source": [
    "l = [[[[l1],l1],l1],l1] + l1"
   ]
  },
  {
   "cell_type": "code",
   "execution_count": 79,
   "id": "92e52154-22ac-4f72-b6ec-11ef69bfb7a1",
   "metadata": {},
   "outputs": [
    {
     "data": {
      "text/plain": [
       "{2, 4, 5}"
      ]
     },
     "execution_count": 79,
     "metadata": {},
     "output_type": "execute_result"
    }
   ],
   "source": [
    "set([2,4,5]) "
   ]
  },
  {
   "cell_type": "code",
   "execution_count": 78,
   "id": "df8fb578-a218-4dcc-bbed-bc702b8bd4e0",
   "metadata": {},
   "outputs": [
    {
     "data": {
      "text/plain": [
       "(2, 4, 5)"
      ]
     },
     "execution_count": 78,
     "metadata": {},
     "output_type": "execute_result"
    }
   ],
   "source": [
    "tuple([2,4,5])"
   ]
  },
  {
   "cell_type": "code",
   "execution_count": 92,
   "id": "eaca9deb-4090-492d-9d30-80d924b04876",
   "metadata": {},
   "outputs": [],
   "source": [
    "M = [[2,4,6],[3,1,8],[1,2,3]]"
   ]
  },
  {
   "cell_type": "code",
   "execution_count": 93,
   "id": "33947e65-b262-4007-9852-5e34c714b09a",
   "metadata": {},
   "outputs": [
    {
     "data": {
      "text/plain": [
       "[[2, 4, 6], [3, 1, 8], [1, 2, 3]]"
      ]
     },
     "execution_count": 93,
     "metadata": {},
     "output_type": "execute_result"
    }
   ],
   "source": [
    "M"
   ]
  },
  {
   "cell_type": "code",
   "execution_count": 94,
   "id": "5efdaa2b-e6d2-4d22-a9e8-99a3868c81ec",
   "metadata": {},
   "outputs": [
    {
     "name": "stdout",
     "output_type": "stream",
     "text": [
      "[[2 4 6]\n",
      " [3 1 8]\n",
      " [1 2 3]]\n"
     ]
    }
   ],
   "source": [
    "import numpy as np\n",
    "print(np.array(M))"
   ]
  },
  {
   "cell_type": "code",
   "execution_count": null,
   "id": "fdfb9a27-4425-4cfb-975b-33a26f8920c0",
   "metadata": {},
   "outputs": [],
   "source": []
  }
 ],
 "metadata": {
  "kernelspec": {
   "display_name": "Python 3",
   "language": "python",
   "name": "python3"
  },
  "language_info": {
   "codemirror_mode": {
    "name": "ipython",
    "version": 3
   },
   "file_extension": ".py",
   "mimetype": "text/x-python",
   "name": "python",
   "nbconvert_exporter": "python",
   "pygments_lexer": "ipython3",
   "version": "3.8.10"
  }
 },
 "nbformat": 4,
 "nbformat_minor": 5
}
