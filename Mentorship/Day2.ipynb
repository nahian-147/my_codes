{
 "cells": [
  {
   "cell_type": "code",
   "execution_count": 1,
   "id": "e628d32a-cfb0-47dc-a5eb-2dd8172c78cc",
   "metadata": {},
   "outputs": [],
   "source": [
    "fruits = ['Mango','Orange','Banana','JackFruit','Apple']"
   ]
  },
  {
   "cell_type": "code",
   "execution_count": 13,
   "id": "62111450-2785-46f1-bea2-0d6a8d1c953b",
   "metadata": {},
   "outputs": [
    {
     "data": {
      "text/plain": [
       "True"
      ]
     },
     "execution_count": 13,
     "metadata": {},
     "output_type": "execute_result"
    }
   ],
   "source": [
    "'Orange' in fruits"
   ]
  },
  {
   "cell_type": "code",
   "execution_count": 14,
   "id": "57b67b00-cbff-4a75-8211-87fd83cff930",
   "metadata": {},
   "outputs": [
    {
     "name": "stdout",
     "output_type": "stream",
     "text": [
      "Banana\n"
     ]
    }
   ],
   "source": [
    "print(fruits[2])"
   ]
  },
  {
   "cell_type": "code",
   "execution_count": 15,
   "id": "88d98891-01a2-402e-be5e-5655d3270d11",
   "metadata": {},
   "outputs": [
    {
     "name": "stdout",
     "output_type": "stream",
     "text": [
      "mahi goes to college\n",
      "MAHI GOES TO COLLEGE\n",
      "3\n"
     ]
    }
   ],
   "source": [
    "print('Mahi Goes to College'.lower())\n",
    "\n",
    "print('Mahi Goes to College'.upper())\n",
    "\n",
    "print('Mahi Goes to College'.count('e'))"
   ]
  },
  {
   "cell_type": "code",
   "execution_count": 16,
   "id": "19bdc145-69f5-48d8-84b9-6356c78d0476",
   "metadata": {},
   "outputs": [],
   "source": [
    "s  = 'Mahi Goes to school'"
   ]
  },
  {
   "cell_type": "code",
   "execution_count": 18,
   "id": "188809f3-9364-4f8d-a8e2-abc75eb73b6e",
   "metadata": {},
   "outputs": [
    {
     "data": {
      "text/plain": [
       "'Mahi Will Go to school'"
      ]
     },
     "execution_count": 18,
     "metadata": {},
     "output_type": "execute_result"
    }
   ],
   "source": [
    "s = s.replace('Goes','Will Go')\n",
    "s"
   ]
  },
  {
   "cell_type": "code",
   "execution_count": 19,
   "id": "c649ce3e-5db3-4933-b1ed-e95c40439b40",
   "metadata": {},
   "outputs": [],
   "source": [
    "s = s.replace('school','college')"
   ]
  },
  {
   "cell_type": "code",
   "execution_count": 20,
   "id": "8b29c4df-c7a0-4ff1-b883-3c225f4f6416",
   "metadata": {},
   "outputs": [
    {
     "data": {
      "text/plain": [
       "'Mahi Will Go to college'"
      ]
     },
     "execution_count": 20,
     "metadata": {},
     "output_type": "execute_result"
    }
   ],
   "source": [
    "s"
   ]
  },
  {
   "cell_type": "code",
   "execution_count": 31,
   "id": "ab4713af-422d-4044-86f9-e95ac811fb23",
   "metadata": {},
   "outputs": [
    {
     "data": {
      "text/plain": [
       "True"
      ]
     },
     "execution_count": 31,
     "metadata": {},
     "output_type": "execute_result"
    }
   ],
   "source": [
    "'M' in s "
   ]
  },
  {
   "cell_type": "code",
   "execution_count": 9,
   "id": "19c40432-5094-4403-a073-9494163b3830",
   "metadata": {},
   "outputs": [
    {
     "data": {
      "text/plain": [
       "'Apple'"
      ]
     },
     "execution_count": 9,
     "metadata": {},
     "output_type": "execute_result"
    }
   ],
   "source": [
    "fruits[-1]"
   ]
  },
  {
   "cell_type": "code",
   "execution_count": 12,
   "id": "2d78c441-8ca4-4ec0-a40f-6a289b4d879d",
   "metadata": {},
   "outputs": [
    {
     "name": "stdin",
     "output_type": "stream",
     "text": [
      "type your name :  65\n"
     ]
    },
    {
     "name": "stdout",
     "output_type": "stream",
     "text": [
      "your name is 65\n"
     ]
    }
   ],
   "source": [
    "p = input(\"type your name : \")\n",
    "print(\"your name is \"+p)"
   ]
  },
  {
   "cell_type": "code",
   "execution_count": null,
   "id": "e640194b-eeb8-4f79-81ba-cfd80f2a09be",
   "metadata": {},
   "outputs": [],
   "source": [
    "p = int(input())\n",
    "q = int(input()\n",
    "print(int(p)+int(q))"
   ]
  },
  {
   "cell_type": "code",
   "execution_count": 34,
   "id": "b19a444f-ddff-4a0e-9eaa-5e623b72c177",
   "metadata": {},
   "outputs": [
    {
     "data": {
      "text/plain": [
       "'to college'"
      ]
     },
     "execution_count": 34,
     "metadata": {},
     "output_type": "execute_result"
    }
   ],
   "source": [
    "s[-10:]"
   ]
  },
  {
   "cell_type": "code",
   "execution_count": 42,
   "id": "841df0ef-621e-4c29-ac48-0d689467e3ee",
   "metadata": {},
   "outputs": [],
   "source": [
    "theory_course = 'CSE431A'"
   ]
  },
  {
   "cell_type": "code",
   "execution_count": 43,
   "id": "84b0b4a4-8c27-486f-a728-99df631a863c",
   "metadata": {},
   "outputs": [
    {
     "data": {
      "text/plain": [
       "'CSE432A'"
      ]
     },
     "execution_count": 43,
     "metadata": {},
     "output_type": "execute_result"
    }
   ],
   "source": [
    "theory_course.replace(theory_course[3:6],str(int(theory_course[3:6])+1))"
   ]
  },
  {
   "cell_type": "code",
   "execution_count": null,
   "id": "4bd98620-84ac-4806-9429-c8188c4eaf65",
   "metadata": {},
   "outputs": [],
   "source": []
  }
 ],
 "metadata": {
  "kernelspec": {
   "display_name": "Python 3",
   "language": "python",
   "name": "python3"
  },
  "language_info": {
   "codemirror_mode": {
    "name": "ipython",
    "version": 3
   },
   "file_extension": ".py",
   "mimetype": "text/x-python",
   "name": "python",
   "nbconvert_exporter": "python",
   "pygments_lexer": "ipython3",
   "version": "3.8.10"
  }
 },
 "nbformat": 4,
 "nbformat_minor": 5
}
